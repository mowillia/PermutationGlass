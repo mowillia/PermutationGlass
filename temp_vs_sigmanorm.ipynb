{
 "cells": [
  {
   "cell_type": "code",
   "execution_count": 1,
   "metadata": {},
   "outputs": [],
   "source": [
    "%matplotlib inline\n",
    "import numpy as np\n",
    "import matplotlib.pyplot as plt\n",
    "from scipy.optimize import fsolve\n",
    "import time\n",
    "\n",
    "start_clock = time.time()"
   ]
  },
  {
   "cell_type": "markdown",
   "metadata": {},
   "source": [
    "## Critical Temperature vs Mean-Normalized Standard Deviation\n",
    "\n",
    "Here we plot $k_BT_c$ vs $\\sigma_0/\\lambda_0$ for the gaussian, uniform, and symmetric bernoulli distribution.\n",
    "\n",
    "\n",
    "- For the Gaussian distribution: \n",
    "\n",
    "$$\n",
    "\\beta_c = \\frac{\\lambda_0}{\\sigma_{0}^2} \\left( 1 - \\sqrt{1 - \\frac{2\\sigma_{0}^2}{\\lambda_{0}^2} \\ln N}\\,\\right).\n",
    "$$\n",
    "\n",
    "- For the uniform distribution, the exact transition temperature is found by solving \n",
    "\n",
    "$$\n",
    "-\\beta_c \\lambda_0+\\ln \\left[\\frac{\\sinh(\\beta_c \\sigma_{0}\\sqrt{3})}{\\beta_c \\sigma_{0}\\sqrt{3}}\\right] + \\ln N = 0.  $$\n",
    "\n",
    "- For symmetric-Bernoulli (or bi-Dirac) distribution: \n",
    "$$\n",
    "\\beta_c \\bar{\\lambda} = \\ln \\left[ \\frac{1}{2N(1-q)} \\left( 1 - \\sqrt{1- 4N^2 q (1-q)}\\right) \\right].\n",
    "$$\n"
   ]
  },
  {
   "cell_type": "code",
   "execution_count": 2,
   "metadata": {},
   "outputs": [],
   "source": [
    "### Gaussian ###\n",
    "betac_gauss = lambda avg_l, std_l, N: (avg_l/(std_l)**2)*(1- np.sqrt(1- 2.0*(std_l**2/(avg_l**2))*np.log(N)  ))\n",
    "\n",
    "### Dirac ###\n",
    "betac_dirac = lambda avg_l, std_l, N: (1.0/np.sqrt(avg_l**2 + std_l**2))*np.log((1-avg_l/np.sqrt(std_l**2+avg_l**2))**(-1)*(1-np.sqrt(1-N**2*std_l**2/(std_l**2+avg_l**2 )))/N)"
   ]
  },
  {
   "cell_type": "code",
   "execution_count": 3,
   "metadata": {},
   "outputs": [],
   "source": [
    "## Uniform distribution constraint function ##\n",
    "func_flat = lambda beta_c, avg_l, std_l, N: beta_c*avg_l- np.log(N*np.sinh(beta_c*std_l*np.sqrt(3))/(beta_c*std_l*np.sqrt(3)))\n",
    "\n",
    "## Solving the constraint for beta ##\n",
    "def flat_solver2(mean_l, sig_l, N):\n",
    "    \n",
    "    func_reduced = lambda beta_c: func_flat(beta_c, mean_l, sig_l, N)\n",
    "    \n",
    "    beta_guess = np.log(N)/mean_l\n",
    "    \n",
    "    beta_soln = fsolve(func_reduced, beta_guess)\n",
    "    \n",
    "    return(beta_soln[0])\n",
    "\n",
    "flat_solver2 = np.vectorize(flat_solver2)"
   ]
  },
  {
   "cell_type": "markdown",
   "metadata": {},
   "source": [
    "---------"
   ]
  },
  {
   "cell_type": "markdown",
   "metadata": {},
   "source": [
    "### Plot of transition temperatures as funcitons of $\\sigma_0/\\lambda_0$"
   ]
  },
  {
   "cell_type": "code",
   "execution_count": 4,
   "metadata": {},
   "outputs": [
    {
     "name": "stderr",
     "output_type": "stream",
     "text": [
      "<ipython-input-2-420a332988f8>:2: RuntimeWarning: invalid value encountered in sqrt\n",
      "  betac_gauss = lambda avg_l, std_l, N: (avg_l/(std_l)**2)*(1- np.sqrt(1- 2.0*(std_l**2/(avg_l**2))*np.log(N)  ))\n",
      "<ipython-input-2-420a332988f8>:5: RuntimeWarning: invalid value encountered in sqrt\n",
      "  betac_dirac = lambda avg_l, std_l, N: (1.0/np.sqrt(avg_l**2 + std_l**2))*np.log((1-avg_l/np.sqrt(std_l**2+avg_l**2))**(-1)*(1-np.sqrt(1-N**2*std_l**2/(std_l**2+avg_l**2 )))/N)\n"
     ]
    },
    {
     "data": {
      "image/png": "[encoded data removed]",
      "text/plain": [
       "<Figure size 432x360 with 1 Axes>"
      ]
     },
     "metadata": {
      "needs_background": "light"
     },
     "output_type": "display_data"
    }
   ],
   "source": [
    "# parameter choices\n",
    "mean_l = 1.0\n",
    "Nval = 50\n",
    "sig_final = .7\n",
    "\n",
    "# domain of values for standard deviation\n",
    "sigs = np.linspace(0.000005, sig_final, 50)\n",
    "\n",
    "# domain of values for standard deviation for the uniform distribution\n",
    "sigs_flat = np.linspace(0.000005, mean_l/(np.sqrt(3))-0.01, 50)\n",
    "\n",
    "# create figure\n",
    "fig = plt.figure(figsize=(6,5))\n",
    "    \n",
    "plt.axhline(mean_l/np.log(Nval), color = 'k', linewidth=2, label = 'No Disorder')\n",
    "plt.plot(sigs_flat, 1.0/(flat_solver2(mean_l, sigs_flat, Nval)), color = (0, 158./255, 115./255), marker = '+', linewidth=1, label = 'Uniform')\n",
    "plt.plot(sigs, 1.0/(betac_gauss(mean_l, sigs, Nval)), color = (213./255, 94./255, 0) ,marker = 'd', linewidth=1, label = 'Gaussian')\n",
    "plt.plot(sigs, 1.0/(betac_dirac(mean_l, sigs, Nval)), 'b.-', linewidth=1, label = 'Symm. Bernoulli')\n",
    "\n",
    "plt.ylim([0,mean_l/np.log(Nval)+.21])\n",
    "plt.xlim([0, sig_final])\n",
    "plt.xlabel(r'$\\sigma_{0}/\\lambda_0$', fontsize=20)\n",
    "plt.ylabel(r'$k_B T_c$', fontsize=20)\n",
    "leg = plt.legend(bbox_to_anchor=(.95, .97), fontsize=13)\n",
    "leg.get_frame().set_alpha(1.0)\n",
    "plt.grid(alpha = 0.45)\n",
    "\n",
    "# tick parameters\n",
    "plt.tick_params(axis='both', which='major', labelsize=13)\n",
    "\n",
    "# plt.savefig('N50Tc_disorder.png',bbox_inches='tight')\n",
    "\n",
    "plt.show()"
   ]
  },
  {
   "cell_type": "code",
   "execution_count": 5,
   "metadata": {},
   "outputs": [
    {
     "name": "stdout",
     "output_type": "stream",
     "text": [
      "Elapsed Time: 0.386 sec\n"
     ]
    }
   ],
   "source": [
    "print('Elapsed Time: %.3f sec' % (time.time()-start_clock))"
   ]
  }
 ],
 "metadata": {
  "kernelspec": {
   "display_name": "Python 3",
   "language": "python",
   "name": "python3"
  },
  "language_info": {
   "codemirror_mode": {
    "name": "ipython",
    "version": 3
   },
   "file_extension": ".py",
   "mimetype": "text/x-python",
   "name": "python",
   "nbconvert_exporter": "python",
   "pygments_lexer": "ipython3",
   "version": "3.8.5"
  }
 },
 "nbformat": 4,
 "nbformat_minor": 1
}
