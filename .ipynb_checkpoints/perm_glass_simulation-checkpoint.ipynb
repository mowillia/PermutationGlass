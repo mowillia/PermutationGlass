{
 "cells": [
  {
   "cell_type": "code",
   "execution_count": 1,
   "metadata": {},
   "outputs": [],
   "source": [
    "%matplotlib inline\n",
    "import numpy as np\n",
    "import scipy \n",
    "import matplotlib.pyplot as plt\n",
    "from scipy.optimize import fsolve\n",
    "from scipy import integrate\n",
    "import itertools\n",
    "import copy\n",
    "\n",
    "import random\n",
    "import time\n",
    "\n",
    "import timeit\n",
    "\n",
    "from numpy import random\n",
    "\n",
    "start_clock = time.time()"
   ]
  },
  {
   "cell_type": "markdown",
   "metadata": {},
   "source": [
    "## Permutation Glass Simulation\n",
    "\n",
    "We perform a Monte Carlo simulation of the permutation glass for gaussian, bernoulli, and uniform energy distributions and compare the simulated results to the theoretical results. \n",
    "\n",
    "----------"
   ]
  },
  {
   "cell_type": "markdown",
   "metadata": {},
   "source": [
    "### Defining Distributions \n",
    "\n",
    "We consider three distributions each with mean $\\lambda_0$ and standard deviation $\\sigma_0$:\n",
    "\n",
    "- **Gaussian**\n",
    "$$\n",
    "\\rho_{0}(\\lambda) = \\frac{1}{\\sqrt{2\\pi \\sigma_{0}^2}} e^{-(\\lambda- \\lambda_0)^2 /2\\sigma_{0}^2},  \n",
    "$$\n",
    "\n",
    "- **Uniform**\n",
    "$$\n",
    "\\rho_{0}(\\lambda) = \\frac{1}{2\\sqrt{3}\\sigma_{0}},\n",
    "$$\n",
    "for $\\lambda_0 - \\sigma_{0} \\sqrt{3} \\leq \\lambda \\leq \\lambda_0 +\\sigma_{0} \\sqrt{3}$ and is zero otherwise,  \n",
    "\n",
    "\n",
    "- **Symmetric-Bernoulli**\n",
    "$$\n",
    "\\rho_{0}(\\lambda) = q \\delta(\\lambda - \\bar{\\lambda}) + (1-q) \\delta(\\lambda+ \\bar{\\lambda}),\n",
    "$$\n",
    "where $q$ and $\\bar{\\lambda}$ are related to the mean $\\lambda_0$ and standard deviation $\\sigma_0$ through \n",
    "$$\n",
    "\\bar{\\lambda} = \\sqrt{\\lambda_0^2  +\\sigma_0^2}, \\qquad q = \\frac{1}{2} \\left( 1 + \\frac{\\lambda_0}{\\sqrt{\\lambda_0^2 + \\sigma_0^2}} \\right).\n",
    "$$"
   ]
  },
  {
   "cell_type": "code",
   "execution_count": 2,
   "metadata": {},
   "outputs": [],
   "source": [
    "# Gaussian Distribution of Values \n",
    "lvec_gauss = lambda mu, sigma, nelem: np.random.normal(mu, sigma, nelem)"
   ]
  },
  {
   "cell_type": "code",
   "execution_count": 3,
   "metadata": {},
   "outputs": [],
   "source": [
    "# Flat Distribution of Values\n",
    "lvec_flat = lambda mu, sigma, nelem: np.random.uniform(mu - sigma*np.sqrt(3), mu+sigma*np.sqrt(3), nelem)"
   ]
  },
  {
   "cell_type": "code",
   "execution_count": 4,
   "metadata": {},
   "outputs": [],
   "source": [
    "# Dirac Delta (Symmetric-Bernoulli) distribution of values\n",
    "\n",
    "def lbar(mean, std):\n",
    "    \n",
    "    return np.sqrt(mean**2 + std**2)\n",
    "\n",
    "def q(mean, std):\n",
    "\n",
    "    return(0.5*(1 + mean/np.sqrt(mean**2 + std**2)))\n",
    "\n",
    "lvec_dirac = lambda mu, sigma, nelem: np.random.binomial(1, q(mu, sigma), nelem)*2*lbar(mu, sigma)-lbar(mu, sigma)"
   ]
  },
  {
   "cell_type": "code",
   "execution_count": 5,
   "metadata": {},
   "outputs": [
    {
     "name": "stdout",
     "output_type": "stream",
     "text": [
      "Gaussian Distribution STD: 0.4519627667476533\n",
      "Bi-Dirac Distribution STD: 0.5310367218940703\n",
      "Flat Distribution STD: 0.49130498647504295\n"
     ]
    }
   ],
   "source": [
    "## Test printing energy cost vectors for each distribution of values \n",
    "\n",
    "# mean and standard deviation of all distributions\n",
    "mu, sigma = 1.0, .5 \n",
    "\n",
    "# number of elements in the vector\n",
    "nelem = 50\n",
    "\n",
    "gauss_v = lvec_gauss(mu, sigma, nelem)\n",
    "dirac_v = lvec_dirac(mu, sigma, nelem)\n",
    "flat_v = lvec_flat(mu, sigma, nelem)\n",
    "\n",
    "# standard deviation tests \n",
    "print(\"Gaussian Distribution STD:\", np.std(gauss_v))\n",
    "print(\"Bi-Dirac Distribution STD:\", np.std(dirac_v))\n",
    "print(\"Flat Distribution STD:\", np.std(flat_v))"
   ]
  },
  {
   "cell_type": "markdown",
   "metadata": {},
   "source": [
    "### Theory definitions of partition function and $\\langle j \\rangle$\n",
    "\n",
    "The partition function for the permutation glass is  \n",
    "\n",
    "$$\n",
    "Z_{N}(\\{\\beta \\lambda_i\\}) = \\sum_{\\vec{\\theta} \\in \\text{Sym}(\\omega)}\\text{exp}\\left[\\beta  \\sum_{i=1}^{N}\\lambda_i I_{\\theta_i \\neq \\omega_i} \\right] =  \\int^{\\infty}_{0} ds\\, e^{-s} \\prod^{N}_{\\ell=1}\\Big( 1+ (s-1)e^{-\\beta\\lambda_{\\ell}}\\Big),\n",
    "$$\n",
    "\n",
    "and the average number of incorrectly ordered components can be shown to be\n",
    "\n",
    "$$\n",
    "\\begin{align}\n",
    "\\langle j \\rangle &= N - \\frac{1}{Z_{N}(\\{\\beta \\lambda_i\\}) }\\sum_{k=1}^NZ_{N-1}(\\{\\beta \\lambda_i\\}_{i \\neq k}),\n",
    "\\end{align}\n",
    "$$\n",
    "\n",
    "\n",
    "where $Z_{N-1}(\\{\\beta \\lambda_i\\}_{i \\neq k})$ is defined by the original partition function with the product taken over the $N-1$ elements of $\\{\\lambda_i\\}$ not including $\\lambda_k$."
   ]
  },
  {
   "cell_type": "code",
   "execution_count": 6,
   "metadata": {},
   "outputs": [
    {
     "data": {
      "text/plain": [
       "1.4245445908504356e+39"
      ]
     },
     "execution_count": 6,
     "metadata": {},
     "output_type": "execute_result"
    }
   ],
   "source": [
    "#integrand of partition function \n",
    "f = lambda s, T, ls: np.exp(-s)*np.product( 1+ (s-1)*np.exp(-ls/T))\n",
    "\n",
    "# partition function definition\n",
    "ZN = lambda T, lvec: integrate.quad(f, 0, np.inf, args = (T, lvec), limit=1000)[0]\n",
    "\n",
    "# testing\n",
    "ZN(.76, gauss_v)"
   ]
  },
  {
   "cell_type": "code",
   "execution_count": 7,
   "metadata": {},
   "outputs": [],
   "source": [
    "# product in <j> integrand\n",
    "\n",
    "def jprod(s,  k , T, ls):\n",
    "    \n",
    "    lnew = np.delete(ls, k)\n",
    "    \n",
    "    # compute product of all elements except element k\n",
    "    return(np.product( 1+ (s-1)*np.exp(-lnew/T)))\n"
   ]
  },
  {
   "cell_type": "code",
   "execution_count": 8,
   "metadata": {},
   "outputs": [],
   "source": [
    "#Sum of Z_(N-1) functions\n",
    "\n",
    "def ZN_1sum(T, ls):\n",
    "    \n",
    "    N = len(ls)\n",
    "    \n",
    "    func = 0\n",
    "    for k in range(N):\n",
    "        lnew = np.delete(ls, k)\n",
    "        func = func + ZN(T, lnew)\n",
    "        \n",
    "    return(func)\n"
   ]
  },
  {
   "cell_type": "code",
   "execution_count": 9,
   "metadata": {},
   "outputs": [
    {
     "data": {
      "text/plain": [
       "47.23510075973761"
      ]
     },
     "execution_count": 9,
     "metadata": {},
     "output_type": "execute_result"
    }
   ],
   "source": [
    "# definition of <j>\n",
    "avgj =lambda T, lvec: len(lvec)-ZN_1sum(T, lvec)/ZN(T, lvec)\n",
    "\n",
    "# test of value\n",
    "avgj(1.0, gauss_v)"
   ]
  },
  {
   "cell_type": "markdown",
   "metadata": {},
   "source": [
    "### Case where $\\sigma_0 = 0$ (no disorder)\n",
    "\n",
    "For the case when there is no disorder, the average number of incorrect components reduces to\n",
    "\n",
    "$$ \\langle j \\rangle = N - e^{\\beta \\lambda_0},$$\n",
    "\n",
    "for all distributions. \n"
   ]
  },
  {
   "cell_type": "code",
   "execution_count": 10,
   "metadata": {},
   "outputs": [],
   "source": [
    "### function to test low standard deviation values \n",
    "\n",
    "# simple zero-disorder order parameter computed from laplace method\n",
    "\n",
    "def j_funcsimp(y0, N, T):\n",
    "    \n",
    "    u = y0/T\n",
    "    \n",
    "    if T> y0/np.log(N):\n",
    "        \n",
    "        return N - np.exp(y0/T)\n",
    "    \n",
    "    else: \n",
    "        \n",
    "        return 0.0\n",
    "    \n",
    "j_funcsimp = np.vectorize(j_funcsimp)"
   ]
  },
  {
   "cell_type": "markdown",
   "metadata": {},
   "source": [
    "### Collecting Theoretical Results\n",
    "\n",
    "Here we collect the theoretical results for $\\langle j \\rangle$ for each of the above three distributions for $(\\mu, \\sigma_0) = (1.0, 0.35)$ and $(\\mu, \\sigma_0) = (1.0, 1.5)$ for $N = 50$. "
   ]
  },
  {
   "cell_type": "code",
   "execution_count": 11,
   "metadata": {},
   "outputs": [],
   "source": [
    "# mean and standard deviation of all distributions\n",
    "mu = 1.0\n",
    "\n",
    "# number of elements in the vector\n",
    "nelem = 50"
   ]
  },
  {
   "cell_type": "code",
   "execution_count": 12,
   "metadata": {},
   "outputs": [],
   "source": [
    "# Gaussian Distribution of Values \n",
    "lvec_gauss = lambda mu, sigma, nelem: np.random.normal(mu, sigma, nelem)\n",
    "\n",
    "# Dirac Delta distribution of values\n",
    "lvec_dirac = lambda mu, sigma, nelem: np.random.binomial(1, q(mu, sigma), nelem)*2*lbar(mu, sigma) - lbar(mu, sigma)\n",
    "\n",
    "# Flat Distribution of Values\n",
    "lvec_flat = lambda mu, sigma, nelem: np.random.uniform(mu - sigma*np.sqrt(3), mu+sigma*np.sqrt(3), nelem)"
   ]
  },
  {
   "cell_type": "code",
   "execution_count": 13,
   "metadata": {},
   "outputs": [
    {
     "name": "stderr",
     "output_type": "stream",
     "text": [
      "/Users/mobolajiwilliams/opt/miniconda3/lib/python3.8/site-packages/numpy/core/fromnumeric.py:87: RuntimeWarning: overflow encountered in reduce\n",
      "  return ufunc.reduce(obj, axis, dtype, out, **passkwargs)\n",
      "<ipython-input-6-0f3a5085b5af>:5: IntegrationWarning: The occurrence of roundoff error is detected, which prevents \n",
      "  the requested tolerance from being achieved.  The error may be \n",
      "  underestimated.\n",
      "  ZN = lambda T, lvec: integrate.quad(f, 0, np.inf, args = (T, lvec), limit=1000)[0]\n"
     ]
    }
   ],
   "source": [
    "## Gaussian theoretical results\n",
    "\n",
    "lvec_g_cut = lvec_gauss(mu, 0.35, nelem)\n",
    "lvec_g_high = lvec_gauss(mu, 1.5, nelem)\n",
    "\n",
    "# spectrum of temperature values\n",
    "temp_vals = np.linspace(.01, 1.3, 100)\n",
    "\n",
    "jvals_g_high = np.zeros(len(temp_vals)) # initialize an empty vector\n",
    "jvals_g_cut = np.zeros(len(temp_vals)) # initialize an empty vector\n",
    "for k in range(len(temp_vals)):   # fill vector with values at each temperature \n",
    "    jvals_g_high[k] = avgj(temp_vals[k], lvec_g_high);\n",
    "    jvals_g_cut[k] = avgj(temp_vals[k], lvec_g_cut);"
   ]
  },
  {
   "cell_type": "code",
   "execution_count": 14,
   "metadata": {},
   "outputs": [
    {
     "name": "stderr",
     "output_type": "stream",
     "text": [
      "<ipython-input-6-0f3a5085b5af>:5: IntegrationWarning: The occurrence of roundoff error is detected, which prevents \n",
      "  the requested tolerance from being achieved.  The error may be \n",
      "  underestimated.\n",
      "  ZN = lambda T, lvec: integrate.quad(f, 0, np.inf, args = (T, lvec), limit=1000)[0]\n",
      "<ipython-input-6-0f3a5085b5af>:2: RuntimeWarning: invalid value encountered in double_scalars\n",
      "  f = lambda s, T, ls: np.exp(-s)*np.product( 1+ (s-1)*np.exp(-ls/T))\n"
     ]
    }
   ],
   "source": [
    "## Symmetric Bernoulli theoretical results\n",
    "\n",
    "lvec_d_cut = lvec_dirac(mu, .35, nelem)\n",
    "lvec_d_high = lvec_dirac(mu, 1.5, nelem)\n",
    "\n",
    "# spectrum of temperature values\n",
    "temp_vals = np.linspace(.01, 1.3, 100)\n",
    "\n",
    "jvals_d_cut = np.zeros(len(temp_vals)) # initialize an empty vector\n",
    "jvals_d_high = np.zeros(len(temp_vals)) # initialize an empty vector\n",
    "for k in range(len(temp_vals)):   # fill vector with values at each temperature\n",
    "    jvals_d_cut[k] = avgj(temp_vals[k], lvec_d_cut)\n",
    "    jvals_d_high[k] = avgj(temp_vals[k], lvec_d_high)\n"
   ]
  },
  {
   "cell_type": "code",
   "execution_count": 15,
   "metadata": {},
   "outputs": [
    {
     "name": "stderr",
     "output_type": "stream",
     "text": [
      "<ipython-input-6-0f3a5085b5af>:5: IntegrationWarning: The occurrence of roundoff error is detected, which prevents \n",
      "  the requested tolerance from being achieved.  The error may be \n",
      "  underestimated.\n",
      "  ZN = lambda T, lvec: integrate.quad(f, 0, np.inf, args = (T, lvec), limit=1000)[0]\n"
     ]
    }
   ],
   "source": [
    "## Uniform theoretical results\n",
    "\n",
    "lvec_f_cut = lvec_flat(mu, .35, nelem)\n",
    "lvec_f_high = lvec_flat(mu, 1.5, nelem)\n",
    "\n",
    "# spectrum of temperature values\n",
    "temp_vals = np.linspace(.01, 1.3, 100)\n",
    "\n",
    "jvals_f_cut = np.zeros(len(temp_vals)) # initialize an empty vector\n",
    "jvals_f_high = np.zeros(len(temp_vals)) # initialize an empty vector\n",
    "for k in range(len(temp_vals)):   # fill vector with values at each temperature\n",
    "    jvals_f_cut[k] = avgj(temp_vals[k], lvec_f_cut)\n",
    "    jvals_f_high[k] = avgj(temp_vals[k], lvec_f_high)"
   ]
  },
  {
   "cell_type": "markdown",
   "metadata": {},
   "source": [
    "### Monte Carlo Simulation Code\n",
    "\n",
    "In this section, we define the code to simulate the permutation glass given an energy cost distribution."
   ]
  },
  {
   "cell_type": "code",
   "execution_count": 16,
   "metadata": {},
   "outputs": [],
   "source": [
    "# List of favorable contacts \n",
    "# order doesn't matter so we include reversed elements as well \n",
    "\n",
    "Ncomp = 50\n",
    "\n",
    "omega0 = [0]*Ncomp\n",
    "for k in range(Ncomp):\n",
    "    omega0[k] = k"
   ]
  },
  {
   "cell_type": "code",
   "execution_count": 17,
   "metadata": {},
   "outputs": [
    {
     "name": "stdout",
     "output_type": "stream",
     "text": [
      "[0, 1, 2, 3, 4, 5, 6, 7, 8, 9, 10, 11, 12, 13, 14, 15, 16, 17, 18, 19, 20, 21, 22, 23, 24, 25, 26, 27, 28, 29, 30, 31, 32, 33, 34, 35, 36, 37, 38, 39, 40, 41, 42, 43, 44, 45, 46, 47, 48, 49]\n"
     ]
    }
   ],
   "source": [
    "# checking values of omega\n",
    "print(omega0)"
   ]
  },
  {
   "cell_type": "code",
   "execution_count": 18,
   "metadata": {},
   "outputs": [],
   "source": [
    "## Hamiltonian function \n",
    "\n",
    "def Ham(lvec, ls, Ncomp):\n",
    "    \n",
    "    N = int(Ncomp)\n",
    "    energy = 0\n",
    "    \n",
    "    for k in range(N):\n",
    "        \n",
    "        # there is an energy cost if ls[k] doesn't equal omega0[k]\n",
    "        \n",
    "        if ls[k] != omega0[k]:       \n",
    "            energy = energy + lvec[k]\n",
    "            \n",
    "    return energy   \n",
    "\n",
    "## transition operator\n",
    "def trans(init_ls):\n",
    "    \n",
    "    i1 = int(np.random.choice(range(Ncomp)))\n",
    "    i2 = int(np.random.choice(range(Ncomp)))\n",
    "\n",
    "    ## new omega vector \n",
    "    fin_ls = copy.deepcopy(init_ls)\n",
    "    fin_ls[i2] = init_ls[i1]\n",
    "    fin_ls[i1] = init_ls[i2]\n",
    "    \n",
    "    return(fin_ls)\n",
    "\n",
    "## Defining Boltzmann Weight\n",
    "def Boltz(lvec, ls, T, Ncomp):\n",
    "            \n",
    "    return np.exp(-Ham(lvec, ls, Ncomp)*1.0/T)\n",
    "\n",
    "## number of favorable contacts; normalized\n",
    "def j(ls, Ncomp):\n",
    "    \n",
    "    N = int(Ncomp)\n",
    "    num = 0\n",
    "    \n",
    "    for k in range(N):\n",
    "        \n",
    "        if ls[k] != omega0[k]:\n",
    "            num = num+1\n",
    "            \n",
    "    return num"
   ]
  },
  {
   "cell_type": "code",
   "execution_count": 19,
   "metadata": {},
   "outputs": [],
   "source": [
    "### Metropolis Monte Carlo Algorithm \n",
    "\n",
    "## loads uniform random sampling \n",
    "runif = np.random.rand\n",
    "\n",
    "def met_permglass(n_iter, initial_state, lamb, temp, Ncomp):\n",
    "    '''\n",
    "    #################################################################\n",
    "    # function to sample using Metropolis \n",
    "    #  \n",
    "    # n_iter:  number of iterations\n",
    "    # initial_state: initial state for the start position for our chain\n",
    "    # gamma: energy cost for incorrect component\n",
    "    # temp: temperature \n",
    "    ##################################################################\n",
    "    '''\n",
    "    # Initialize trace for state values\n",
    "    state_vals = [0]*(n_iter+1)\n",
    "    \n",
    "    # Set initial values\n",
    "    state_vals[0] = initial_state\n",
    "        \n",
    "    #sets current log-probability\n",
    "    #current_prob = prob_d(T[0], lamb) \n",
    "    log_current_prob = np.log(Boltz(lamb, state_vals[0], temp, Ncomp))\n",
    "        \n",
    "    # Initialize acceptance counts\n",
    "    # We can use this to tune our step size\n",
    "    accepted = 0\n",
    "    \n",
    "    for i in range(n_iter):\n",
    "    \n",
    "        # get current permutation\n",
    "        current_state = state_vals[i]\n",
    "        \n",
    "        # proposed new permutation; generated from random integer sampling\n",
    "        new_state = trans(current_state)\n",
    "        \n",
    "        # Calculate posterior log-probability with proposed value\n",
    "        log_proposed_prob = np.log(Boltz(lamb, new_state, temp, Ncomp)) \n",
    "\n",
    "        # Log-acceptance rate\n",
    "        log_alpha = log_proposed_prob- log_current_prob\n",
    "\n",
    "        # Sample a uniform random variate\n",
    "        u = runif()\n",
    "\n",
    "        # Test proposed value\n",
    "        if np.log(u) < log_alpha:\n",
    "            # Accept\n",
    "            state_vals[i+1] = new_state\n",
    "            log_current_prob = log_proposed_prob\n",
    "            accepted += 1\n",
    "        else:\n",
    "            # Stay put\n",
    "            state_vals[i+1] = state_vals[i]\n",
    "\n",
    "    # return our samples and the number of accepted steps\n",
    "    return state_vals, accepted"
   ]
  },
  {
   "cell_type": "code",
   "execution_count": 20,
   "metadata": {},
   "outputs": [],
   "source": [
    "## average number of incorrect contacts across all states in ensemble\n",
    "\n",
    "## we start far from the beginning of the chain to ensure that it\n",
    "## has reached \"equilibrium\"\n",
    "\n",
    "def avg_j(state_vals, Nmc, Ncomp):\n",
    "    \n",
    "    length = int(Nmc/50)\n",
    "    \n",
    "    ls = [0]*length\n",
    "    ls = np.array(ls)\n",
    "    for k in range(length):\n",
    "        ls[k] = j(state_vals[Nmc-length+k], Ncomp)\n",
    "    \n",
    "    \n",
    "    return(np.mean(ls))"
   ]
  },
  {
   "cell_type": "code",
   "execution_count": 21,
   "metadata": {},
   "outputs": [],
   "source": [
    "## standard deviation of number of incorrect components across all states in ensemble\n",
    "\n",
    "## we start far from the beginning of the chain to ensure that it\n",
    "## has reached \"equilibrium\"\n",
    "\n",
    "def std_j(state_vals, Nmc, Ncomp):\n",
    "    \n",
    "    length = int(Nmc/50)\n",
    "    \n",
    "    ls = [0]*length\n",
    "    ls = np.array(ls)\n",
    "    for k in range(length):\n",
    "        ls[k] = j(state_vals[Nmc-length+k], Ncomp)\n",
    "    \n",
    "    \n",
    "    return(np.std(ls))"
   ]
  },
  {
   "cell_type": "markdown",
   "metadata": {},
   "source": [
    "### Predicted (Inverse) Transition Temperatures\n",
    "\n",
    "Each distribution has a predicted temperature at which the system settles into the completely correct configuration $\\langle j \\rangle =0$. These (inverse) temperatures are \n",
    "\n",
    "- For gaussian distribution: \n",
    "\n",
    "$$\n",
    "\\beta_c = \\frac{\\lambda_0}{\\sigma_{0}^2} \\left( 1 - \\sqrt{1 - \\frac{2\\sigma_{0}^2}{\\lambda_{0}^2} \\ln N}\\,\\right).\n",
    "$$\n",
    "\n",
    "- For uniform distribution: \n",
    "$$\n",
    "\\beta_c \\simeq \\frac{1}{\\lambda_0 - \\sigma_0 \\sqrt{3}} W_{0} \\left(\\frac{N}{2\\sigma_{0}\\sqrt{3}}(\\lambda_0 - \\sigma_0 \\sqrt{3}) \\right),\n",
    "$$\n",
    "\n",
    "where $W_0$ is the principal branch of the Lambert W function, and this is an approximate result valid for large $\\sigma_0$. \n",
    "\n",
    "\n",
    "\n",
    "\n",
    "- For symmetric-Bernoulli (or bi-Dirac) distribution: \n",
    "$$\n",
    "\\beta_c \\bar{\\lambda} = \\ln \\left[ \\frac{1}{2N(1-q)} \\left( 1 - \\sqrt{1- 4N^2 q (1-q)}\\right) \\right].\n",
    "$$\n"
   ]
  },
  {
   "cell_type": "code",
   "execution_count": 22,
   "metadata": {},
   "outputs": [],
   "source": [
    "### Gaussian ###\n",
    "betac_gauss = lambda avg_l, std_l, N: (avg_l/(std_l)**2)*(1- np.sqrt(1- 2.0*(std_l**2/(avg_l**2))*np.log(N)  ))\n",
    "\n",
    "\n",
    "### Uniform (for large sigma) ### \n",
    "betac_flat = lambda avg_l, std_l, N: np.real(1.0/(avg_l-np.sqrt(3)*std_l)*scipy.special.lambertw(N*(avg_l-np.sqrt(3)*std_l)/(2*std_l*np.sqrt(3)) ))\n",
    "\n",
    "\n",
    "### Dirac ###\n",
    "betac_dirac = lambda avg_l, std_l, N: (1.0/np.sqrt(avg_l**2 + std_l**2))*np.log((1-avg_l/np.sqrt(std_l**2+avg_l**2))**(-1)*(1-np.sqrt(1-N**2*std_l**2/(std_l**2+avg_l**2 )))/N)"
   ]
  },
  {
   "cell_type": "markdown",
   "metadata": {},
   "source": [
    "------"
   ]
  },
  {
   "cell_type": "markdown",
   "metadata": {},
   "source": [
    "**Aside:**\n",
    "\n",
    "For uniform distribution, the *exact* transition temperature is found by solving \n",
    "\n",
    "$$\n",
    "-\\beta_c \\lambda_0+\\ln \\left[\\frac{\\sinh(\\beta_c \\sigma_{0}\\sqrt{3})}{\\beta_c \\sigma_{0}\\sqrt{3}}\\right] + \\ln N = 0,  $$\n",
    "\n",
    "but the resulting temperature is close enough to the value given by $\\beta_c$ above that we can use the above result as a reasonable approximation. "
   ]
  },
  {
   "cell_type": "code",
   "execution_count": 23,
   "metadata": {},
   "outputs": [],
   "source": [
    "'''\n",
    "Equation solver for finding exact temperature for the uniform distribution\n",
    "'''\n",
    "\n",
    "## Constraint function ##\n",
    "func_flat = lambda beta_c, avg_l, std_l, N: beta_c*avg_l- np.log(N*np.sinh(beta_c*std_l*np.sqrt(3))/(beta_c*std_l*np.sqrt(3)))\n",
    "\n",
    "## Solving the constraint for beta ##\n",
    "def flat_solver2(mean_l, sig_l, N):\n",
    "    \n",
    "    func_reduced = lambda beta_c: func_flat(beta_c, mean_l, sig_l, N)\n",
    "    \n",
    "    beta_guess = np.log(N)/mean_l\n",
    "    \n",
    "    beta_soln = fsolve(func_reduced, beta_guess)\n",
    "    \n",
    "    return(beta_soln[0])\n",
    "\n",
    "flat_solver2 = np.vectorize(flat_solver2)"
   ]
  },
  {
   "cell_type": "code",
   "execution_count": 24,
   "metadata": {},
   "outputs": [
    {
     "data": {
      "text/plain": [
       "0.0005716911368662681"
      ]
     },
     "execution_count": 24,
     "metadata": {},
     "output_type": "execute_result"
    }
   ],
   "source": [
    "# checking relative error of approximation for intermediate variance\n",
    "\n",
    "np.abs(flat_solver2(1.0, .35, 50) - betac_flat(1.0, .35, 50))/flat_solver2(1.0, .35, 50)"
   ]
  },
  {
   "cell_type": "markdown",
   "metadata": {},
   "source": [
    "---------"
   ]
  },
  {
   "cell_type": "markdown",
   "metadata": {},
   "source": [
    "### Main Theory vs. Simulation Plots\n",
    "\n",
    "With the previous code we can now, reproduce the theory vs simulation plots for each distribution. "
   ]
  },
  {
   "cell_type": "markdown",
   "metadata": {},
   "source": [
    "#### Gaussian Simulation"
   ]
  },
  {
   "cell_type": "code",
   "execution_count": 25,
   "metadata": {},
   "outputs": [],
   "source": [
    "# number of samples\n",
    "Nmc = 20000\n",
    "\n",
    "# number of joining contacts\n",
    "Ncomp = 50\n",
    "## zeroth state function \n",
    "omega0 = [0]*Ncomp\n",
    "for k in range(Ncomp):\n",
    "    omega0[k] = k\n",
    "\n",
    "npoints = 30\n",
    "temp_vals = np.linspace(.01, 1.3, npoints).tolist()\n",
    "j_vals_g = [0]*npoints\n",
    "std_vals_g = [0]*npoints\n",
    "for k in range(npoints):\n",
    "    # make copy of list \n",
    "    omega_cpy = copy.deepcopy(omega0)\n",
    "\n",
    "    # metroplois generator\n",
    "    states_list, accepted = met_permglass(Nmc, omega_cpy, lvec_g_cut, temp_vals[k], Ncomp)\n",
    "    \n",
    "    j_vals_g[k] = avg_j(states_list, Nmc, Ncomp)\n",
    "    std_vals_g[k] = std_j(states_list, Nmc, Ncomp)"
   ]
  },
  {
   "cell_type": "code",
   "execution_count": 26,
   "metadata": {},
   "outputs": [
    {
     "data": {
      "image/png": "[encoded data removed]",
      "text/plain": [
       "<Figure size 504x396 with 1 Axes>"
      ]
     },
     "metadata": {
      "needs_background": "light"
     },
     "output_type": "display_data"
    }
   ],
   "source": [
    "plt.figure(figsize = (7,5.5))\n",
    "\n",
    "# spectrum of temperature values\n",
    "temp_vals100 = np.linspace(.01, 1.3, 100)\n",
    "\n",
    "# plots \n",
    "plt.plot(temp_vals100, jvals_g_high, label = r'$\\sigma_0 = 1.5$', linestyle = ':', linewidth = 3.5) # plot partition function for distribution of values \n",
    "plt.plot(temp_vals100, jvals_g_cut, label = r'$\\sigma_0 = 0.35$', linewidth = 2.5) # plot partition function for  distribution of values \n",
    "plt.plot(temp_vals, j_funcsimp(mu, nelem, temp_vals), label = r'$\\sigma_0 = 0.0$', linewidth = 2.5, linestyle = 'dashed') # plot partition function with energy cost given by mean\n",
    "plt.axvline(x=1/betac_gauss(1.0, .35, nelem), color = 'k', linestyle='dashed', linewidth = 2.0)\n",
    "plt.errorbar(temp_vals,j_vals_g, yerr=std_vals_g, fmt='C4D',label = r'Simulation; $\\sigma_0 = 0.35$', markersize = 5.5 )\n",
    "\n",
    "# plot formatting\n",
    "plt.xlabel(r'$k_B T$', fontsize = 20)\n",
    "plt.xlim([-0.01,1.3])\n",
    "plt.ylim([-.5,50])\n",
    "plt.ylabel(r'$\\langle j \\rangle$', fontsize = 20, rotation=0)\n",
    "ax = plt.gca()\n",
    "ax.yaxis.set_label_coords(-0.1,.5)\n",
    "plt.tick_params(axis='both', which='major', labelsize=15)\n",
    "plt.legend(bbox_to_anchor = (1.0,.59), fontsize = 15)\n",
    "plt.grid(alpha = 0.45)\n",
    "\n",
    "# plt.savefig('avg_j_gauss_N50.png',bbox_inches='tight')\n",
    "\n",
    "plt.show()"
   ]
  },
  {
   "cell_type": "markdown",
   "metadata": {},
   "source": [
    "#### Symmetric Bernoulli"
   ]
  },
  {
   "cell_type": "code",
   "execution_count": 27,
   "metadata": {},
   "outputs": [],
   "source": [
    "## Generate lf for each temperature from .03 to 2.0 in npoints steps\n",
    "\n",
    "\n",
    "# number of samples\n",
    "Nmc = 20000\n",
    "\n",
    "# number of joining contacts\n",
    "Ncomp = 50\n",
    "## zeroth state function \n",
    "omega0 = [0]*Ncomp\n",
    "for k in range(Ncomp):\n",
    "    omega0[k] = k\n",
    "\n",
    "npoints = 30\n",
    "temp_vals = np.linspace(.01, 1.3, npoints).tolist()\n",
    "j_vals_d = [0]*npoints\n",
    "std_vals_d = [0]*npoints\n",
    "for k in range(npoints):\n",
    "    # make copy of list \n",
    "    omega_cpy = copy.deepcopy(omega0)\n",
    "\n",
    "    # metroplois generator\n",
    "    states_list, accepted = met_permglass(Nmc, omega_cpy, lvec_d_cut, temp_vals[k], Ncomp)\n",
    "    \n",
    "    j_vals_d[k] = avg_j(states_list, Nmc, Ncomp)\n",
    "    std_vals_d[k] = std_j(states_list, Nmc, Ncomp)"
   ]
  },
  {
   "cell_type": "code",
   "execution_count": 28,
   "metadata": {},
   "outputs": [
    {
     "data": {
      "image/png": "[encoded data removed]",
      "text/plain": [
       "<Figure size 504x396 with 1 Axes>"
      ]
     },
     "metadata": {
      "needs_background": "light"
     },
     "output_type": "display_data"
    }
   ],
   "source": [
    "plt.figure(figsize = (7,5.5))\n",
    "\n",
    "# spectrum of temperature values\n",
    "temp_vals100 = np.linspace(.01, 1.3, 100)\n",
    "\n",
    "# plots \n",
    "plt.plot(temp_vals100, jvals_d_high, label = r'$\\sigma_0 = 1.5$', linestyle = ':', linewidth = 3.5) # plot partition function for distribution of values \n",
    "plt.plot(temp_vals100, jvals_d_cut, label = r'$\\sigma_0 = 0.35$', linewidth = 2.5) # plot partition function for  distribution of values \n",
    "plt.plot(temp_vals, j_funcsimp(mu, nelem, temp_vals), label = r'$\\sigma_0 = 0.0$', linewidth = 2.5, linestyle = 'dashed') # plot partition function with energy cost given by mean\n",
    "plt.errorbar(temp_vals,j_vals_d, yerr=std_vals_d, fmt='C4D',label = r'Simulation; $\\sigma_0 = 0.35$', markersize = 5.5 )\n",
    "\n",
    "# plot formatting\n",
    "plt.xlabel(r'$k_B T$', fontsize = 20)\n",
    "plt.xlim([-0.01,1.3])\n",
    "plt.ylim([-.5,50])\n",
    "plt.ylabel(r'$\\langle j \\rangle$', fontsize = 20, rotation=0)\n",
    "ax = plt.gca()\n",
    "ax.yaxis.set_label_coords(-0.1,.5)\n",
    "plt.tick_params(axis='both', which='major', labelsize=15)\n",
    "plt.legend(bbox_to_anchor = (1.0,.59), fontsize = 15)\n",
    "plt.grid(alpha = 0.45)\n",
    "\n",
    "# plt.savefig('avg_j_dirac_N50.png',bbox_inches='tight')\n",
    "\n",
    "plt.show()"
   ]
  },
  {
   "cell_type": "markdown",
   "metadata": {},
   "source": [
    "#### Uniform Distribution"
   ]
  },
  {
   "cell_type": "code",
   "execution_count": null,
   "metadata": {},
   "outputs": [],
   "source": [
    "## Generate lf for each temperature from .03 to 2.0 in npoints steps\n",
    "\n",
    "\n",
    "# number of samples\n",
    "Nmc = 20000\n",
    "\n",
    "# number of joining contacts\n",
    "Ncomp = 50\n",
    "## zeroth state function \n",
    "omega0 = [0]*Ncomp\n",
    "for k in range(Ncomp):\n",
    "    omega0[k] = k\n",
    "\n",
    "npoints = 30\n",
    "temp_vals = np.linspace(.01, 1.3, npoints).tolist()\n",
    "j_vals_f = [0]*npoints\n",
    "std_vals_f = [0]*npoints\n",
    "for k in range(npoints):\n",
    "    # make copy of list \n",
    "    omega_cpy = copy.deepcopy(omega0)\n",
    "\n",
    "    # metroplois generator\n",
    "    states_list, accepted = met_permglass(Nmc, omega_cpy, lvec_f_cut, temp_vals[k], Ncomp)\n",
    "    \n",
    "    j_vals_f[k] = avg_j(states_list, Nmc, Ncomp)\n",
    "    std_vals_f[k] = std_j(states_list, Nmc, Ncomp)"
   ]
  },
  {
   "cell_type": "code",
   "execution_count": null,
   "metadata": {},
   "outputs": [],
   "source": [
    "#matplotlib.style.use('default')\n",
    "plt.figure(figsize = (7,5.5))\n",
    "\n",
    "# spectrum of temperature values\n",
    "temp_vals100 = np.linspace(.01, 1.3, 100)\n",
    "\n",
    "# plots \n",
    "plt.plot(temp_vals100, jvals_f_high, label = r'$\\sigma_0 = 1.5$', linestyle = ':', linewidth = 3.5) # plot partition function for distribution of values \n",
    "plt.plot(temp_vals100, jvals_f_cut, label = r'$\\sigma_0 = 0.35$', linewidth = 2.5) # plot partition function for  distribution of values \n",
    "plt.plot(temp_vals, j_funcsimp(mu, nelem, temp_vals), label = r'$\\sigma_0 = 0.0$', linewidth = 2.5, linestyle = 'dashed') # plot partition function with energy cost given by mean\n",
    "plt.axvline(x=1/betac_flat(1.0, 0.35, nelem), color = 'k', linestyle='dashed', linewidth = 2.0)\n",
    "plt.errorbar(temp_vals,j_vals_f, yerr=std_vals_f, fmt='C4D',label = r'Simulation; $\\sigma_0 = 0.35$', markersize = 5.5 )\n",
    "\n",
    "# plot formatting\n",
    "plt.xlabel(r'$k_B T$', fontsize = 20)\n",
    "plt.xlim([-0.01,1.3])\n",
    "plt.ylim([-.5,50])\n",
    "plt.ylabel(r'$\\langle j \\rangle$', fontsize = 20, rotation=0)\n",
    "ax = plt.gca()\n",
    "ax.yaxis.set_label_coords(-0.1,.5)\n",
    "plt.tick_params(axis='both', which='major', labelsize=15)\n",
    "plt.legend(bbox_to_anchor = (1.0,.59), fontsize = 15)\n",
    "plt.grid(alpha = 0.45)\n",
    "\n",
    "# plt.savefig('avg_j_flat_N50.png',bbox_inches='tight')\n",
    "\n",
    "plt.show()"
   ]
  },
  {
   "cell_type": "code",
   "execution_count": null,
   "metadata": {},
   "outputs": [],
   "source": [
    "print('Elapsed Time: %.3f min' % ((time.time()-start_clock)/60))"
   ]
  },
  {
   "cell_type": "markdown",
   "metadata": {},
   "source": [
    "### Plot of transition temperatures as funcitons of $\\sigma_0/\\lambda_0$"
   ]
  },
  {
   "cell_type": "code",
   "execution_count": 43,
   "metadata": {},
   "outputs": [
    {
     "name": "stderr",
     "output_type": "stream",
     "text": [
      "/Users/mobolajiwilliams/anaconda3/lib/python3.7/site-packages/ipykernel_launcher.py:2: RuntimeWarning: invalid value encountered in sqrt\n",
      "  \n",
      "/Users/mobolajiwilliams/anaconda3/lib/python3.7/site-packages/ipykernel_launcher.py:10: RuntimeWarning: invalid value encountered in sqrt\n",
      "  # Remove the CWD from sys.path while we load stuff.\n"
     ]
    },
    {
     "data": {
      "image/png": "[encoded data removed]",
      "text/plain": [
       "<Figure size 432x360 with 1 Axes>"
      ]
     },
     "metadata": {
      "needs_background": "light"
     },
     "output_type": "display_data"
    }
   ],
   "source": [
    "# parameter choices\n",
    "mean_l = 1.0\n",
    "Nval = 50\n",
    "sig_final = .7\n",
    "\n",
    "# domain of values for standard deviation\n",
    "sigs = np.linspace(0.000005, sig_final, 50)\n",
    "\n",
    "# domain of values for standard deviation for the uniform distribution\n",
    "sigs_flat = np.linspace(0.000005, mean_l/(np.sqrt(3))-0.01, 50)\n",
    "\n",
    "# create figure\n",
    "fig = plt.figure(figsize=(6,5))\n",
    "    \n",
    "plt.axhline(mean_l/np.log(Nval), color = 'k', linewidth=2, label = 'No Disorder')\n",
    "plt.plot(sigs_flat, 1.0/(flat_solver2(mean_l, sigs_flat, Nval)), color = (0, 158./255, 115./255), marker = '+', linewidth=1, label = 'Uniform')\n",
    "plt.plot(sigs, 1.0/(betac_gauss(mean_l, sigs, Nval)), color = (213./255, 94./255, 0) ,marker = 'd', linewidth=1, label = 'Gaussian')\n",
    "plt.plot(sigs, 1.0/(betac_dirac(mean_l, sigs, Nval)), 'b.-', linewidth=1, label = 'Symm. Bernoulli')\n",
    "\n",
    "plt.ylim([0,mean_l/np.log(Nval)+.21])\n",
    "plt.xlim([0, sig_final])\n",
    "plt.xlabel(r'$\\sigma_{0}/\\lambda_0$', fontsize=20)\n",
    "plt.ylabel(r'$k_B T_c$', fontsize=20)\n",
    "leg = plt.legend(bbox_to_anchor=(.95, .97), fontsize=13)\n",
    "leg.get_frame().set_alpha(1.0)\n",
    "plt.grid(alpha = 0.45)\n",
    "\n",
    "# tick parameters\n",
    "plt.tick_params(axis='both', which='major', labelsize=13)\n",
    "\n",
    "plt.savefig('N50Tc_disorder.png',bbox_inches='tight')\n",
    "#dpi=fig.dpi ensures the displayed and saved figure have the same margins\n",
    "\n",
    "plt.show()"
   ]
  },
  {
   "cell_type": "markdown",
   "metadata": {},
   "source": [
    "### Log-log plots of critical probabilities\n",
    "\n",
    "The critical probabilities for the various distributions are \n",
    "\n",
    "\\begin{align}\n",
    "P^{\\text{uniform}}_{\\,\\lambda<0} &\\, \\leq \\,\\frac{1}{Ne}  \\\\\n",
    "P^{\\text{gauss}}_{\\,\\lambda<0} \\,& \\lesssim  \\,\\frac{1}{2 N \\sqrt{\\pi \\ln N}} \\\\\n",
    "P^{\\text{bernoulli}}_{\\,\\lambda<0} \\,& \\lesssim \\,\\frac{1}{4N^2}.\n",
    "\\end{align}\n",
    "\n",
    "The general result is \n",
    "$$\n",
    "P_{\\, \\lambda<0} < \\frac{1}{N}\n",
    "$$"
   ]
  },
  {
   "cell_type": "code",
   "execution_count": 41,
   "metadata": {
    "scrolled": true
   },
   "outputs": [
    {
     "data": {
      "image/png": "[encoded data removed]",
      "text/plain": [
       "<Figure size 504x432 with 1 Axes>"
      ]
     },
     "metadata": {
      "needs_background": "light"
     },
     "output_type": "display_data"
    }
   ],
   "source": [
    "## log x plot of probability vs N ##\n",
    "\n",
    "# Plot it\n",
    "Nf = 3 # largest value is 10^3\n",
    "Ns = np.logspace(1, Nf, 30)\n",
    "\n",
    "# create figure\n",
    "plt.figure(figsize=(7,6))\n",
    "\n",
    "plt.loglog(Ns, 1.0/Ns, 'k-', linewidth=1.5, label = 'Upper Limit',  basex = 10.0)\n",
    "plt.loglog(Ns, 1.0/(Ns*2.718), color = (0, 158./255, 115./255), linewidth=1, marker = '+', label = 'Uniform', basex = 10.0)\n",
    "plt.loglog(Ns, 0.5*(1-scipy.special.erf(np.sqrt(np.log(Ns)))), color = (213./255, 94./255, 0),marker = 'd', linewidth=1, label = 'Gaussian',  basex = 10.0)\n",
    "plt.loglog(Ns, 0.5*(1- np.sqrt(1-1/Ns**2)), 'b.-', linewidth=1, label = 'Symm. Bernoulli', basex = 10.0)\n",
    "\n",
    "plt.ylim([.0000001, .2])\n",
    "#plt.xlim([1, Nf])\n",
    "plt.xlabel(r'$\\,N$', fontsize=20)\n",
    "plt.ylabel(r'$P_{\\lambda<0}$', fontsize=20)\n",
    "leg = plt.legend(bbox_to_anchor=(.5, .35), fontsize=15)\n",
    "leg.get_frame().set_alpha(1.0)\n",
    "plt.grid(alpha = 0.45)\n",
    "\n",
    "# tick parameters\n",
    "plt.tick_params(axis='both', which='major', labelsize=15)\n",
    "\n",
    "# plt.savefig('loglogprob_plot.png', dpi=fig.dpi,bbox_inches='tight')\n",
    "#dpi=fig.dpi ensures the displayed and saved figure have the same margins\n",
    "\n",
    "plt.show()"
   ]
  },
  {
   "cell_type": "code",
   "execution_count": null,
   "metadata": {},
   "outputs": [],
   "source": []
  }
 ],
 "metadata": {
  "kernelspec": {
   "display_name": "Python 3",
   "language": "python",
   "name": "python3"
  },
  "language_info": {
   "codemirror_mode": {
    "name": "ipython",
    "version": 3
   },
   "file_extension": ".py",
   "mimetype": "text/x-python",
   "name": "python",
   "nbconvert_exporter": "python",
   "pygments_lexer": "ipython3",
   "version": "3.8.5"
  }
 },
 "nbformat": 4,
 "nbformat_minor": 1
}
